{
 "cells": [
  {
   "cell_type": "markdown",
   "id": "62c86c7a-2bed-4118-b0a6-a68aa1205b36",
   "metadata": {},
   "source": [
    "## Part Two"
   ]
  },
  {
   "cell_type": "markdown",
   "id": "501ec5d8-a7ea-46d6-9f7a-0287262e0904",
   "metadata": {
    "tags": []
   },
   "source": [
    "### 1."
   ]
  },
  {
   "cell_type": "code",
   "execution_count": 1,
   "id": "6a511917-4032-480a-9f64-b931a2e00118",
   "metadata": {
    "tags": []
   },
   "outputs": [],
   "source": [
    "def extract(code):\n",
    "    split = code.split(\"_\")\n",
    "    return f\"{split[1]}.{split[2]}\""
   ]
  },
  {
   "cell_type": "code",
   "execution_count": 8,
   "id": "9203e46a-b3ec-4c44-8094-0abcd58aa8f5",
   "metadata": {
    "tags": []
   },
   "outputs": [
    {
     "name": "stdout",
     "output_type": "stream",
     "text": [
      "31114_BCTOB_txt -> BCTOB.txt\n"
     ]
    }
   ],
   "source": [
    "with open(\"codes.txt\") as f:\n",
    "    lines = f.readlines()\n",
    "lines = [l.strip() for l in lines]\n",
    "\n",
    "print(f\"{lines[49]} -> {extract(lines[49])}\")\n"
   ]
  },
  {
   "cell_type": "markdown",
   "id": "fee88d8d-fbb7-4c3c-a6e6-10986f07cbba",
   "metadata": {},
   "source": [
    "### 2. "
   ]
  },
  {
   "cell_type": "code",
   "execution_count": 9,
   "id": "972c7ba8-6d4d-4a3b-885c-25cb68c256fe",
   "metadata": {
    "tags": []
   },
   "outputs": [],
   "source": [
    "for l in lines:\n",
    "    xxxxx = l.split(\"_\")[0]\n",
    "    f = open(f\"expanded/{extract(l)}\", \"w\")\n",
    "    f.write(xxxxx)\n",
    "    f.close()"
   ]
  },
  {
   "cell_type": "code",
   "execution_count": null,
   "id": "c321dd1a-14da-4041-a19d-28bf9e591ee4",
   "metadata": {},
   "outputs": [],
   "source": []
  }
 ],
 "metadata": {
  "kernelspec": {
   "display_name": "Python 3 (ipykernel)",
   "language": "python",
   "name": "python3"
  },
  "language_info": {
   "codemirror_mode": {
    "name": "ipython",
    "version": 3
   },
   "file_extension": ".py",
   "mimetype": "text/x-python",
   "name": "python",
   "nbconvert_exporter": "python",
   "pygments_lexer": "ipython3",
   "version": "3.11.4"
  }
 },
 "nbformat": 4,
 "nbformat_minor": 5
}
